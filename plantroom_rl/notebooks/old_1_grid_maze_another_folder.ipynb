{
 "cells": [
  {
   "cell_type": "code",
   "execution_count": 3,
   "id": "b2327003-1bfb-4ba5-bbee-9356d981211b",
   "metadata": {},
   "outputs": [
    {
     "name": "stdout",
     "output_type": "stream",
     "text": [
      "pygame 2.5.1 (SDL 2.28.2, Python 3.11.0)\n",
      "Hello from the pygame community. https://www.pygame.org/contribute.html\n"
     ]
    }
   ],
   "source": [
    "import gymnasium"
   ]
  },
  {
   "cell_type": "code",
   "execution_count": 2,
   "id": "3739afc6-8355-41b5-9532-9e47b6957f66",
   "metadata": {},
   "outputs": [],
   "source": [
    "from ventilation_env import PipesEnv\n",
    "env = PipesEnv(render_mode=\"human\")"
   ]
  },
  {
   "cell_type": "code",
   "execution_count": null,
   "id": "33b36704-e45e-4738-b6e9-419500c1627a",
   "metadata": {},
   "outputs": [],
   "source": [
    "observation, info = env.reset(seed=42)\n",
    "for _ in range(1000):\n",
    "   action = env.action_space.sample()  # this is where you would insert your policy\n",
    "   observation, reward, terminated, truncated, info = env.step(action)\n",
    "\n",
    "   if terminated or truncated:\n",
    "      observation, info = env.reset()\n",
    "env.close()"
   ]
  },
  {
   "cell_type": "code",
   "execution_count": 5,
   "id": "e0ebf1e5-07d8-415b-a7b1-8196735ed692",
   "metadata": {},
   "outputs": [
    {
     "name": "stdout",
     "output_type": "stream",
     "text": [
      "===== classic_control =====\n",
      "Acrobot-v1                            CartPole-v0                           CartPole-v1\n",
      "MountainCar-v0                        MountainCarContinuous-v0              Pendulum-v1\n",
      "===== phys2d =====\n",
      "phys2d/CartPole-v0                    phys2d/CartPole-v1                    phys2d/Pendulum-v0\n",
      "===== box2d =====\n",
      "BipedalWalker-v3                      BipedalWalkerHardcore-v3              CarRacing-v2\n",
      "LunarLander-v2                        LunarLanderContinuous-v2\n",
      "===== toy_text =====\n",
      "Blackjack-v1                          CliffWalking-v0                       FrozenLake-v1\n",
      "FrozenLake8x8-v1                      Taxi-v3\n",
      "===== tabular =====\n",
      "tabular/Blackjack-v0                  tabular/CliffWalking-v0\n",
      "===== mujoco =====\n",
      "Ant-v2                                Ant-v3                                Ant-v4\n",
      "HalfCheetah-v2                        HalfCheetah-v3                        HalfCheetah-v4\n",
      "Hopper-v2                             Hopper-v3                             Hopper-v4\n",
      "Humanoid-v2                           Humanoid-v3                           Humanoid-v4\n",
      "HumanoidStandup-v2                    HumanoidStandup-v4                    InvertedDoublePendulum-v2\n",
      "InvertedDoublePendulum-v4             InvertedPendulum-v2                   InvertedPendulum-v4\n",
      "Pusher-v2                             Pusher-v4                             Reacher-v2\n",
      "Reacher-v4                            Swimmer-v2                            Swimmer-v3\n",
      "Swimmer-v4                            Walker2d-v2                           Walker2d-v3\n",
      "Walker2d-v4\n",
      "===== None =====\n",
      "GymV21Environment-v0                  GymV26Environment-v0\n",
      "===== envs =====\n",
      "MiniGrid-BlockedUnlockPickup-v0       MiniGrid-DistShift1-v0                MiniGrid-DistShift2-v0\n",
      "MiniGrid-DoorKey-16x16-v0             MiniGrid-DoorKey-5x5-v0               MiniGrid-DoorKey-6x6-v0\n",
      "MiniGrid-DoorKey-8x8-v0               MiniGrid-Dynamic-Obstacles-16x16-v0   MiniGrid-Dynamic-Obstacles-5x5-v0\n",
      "MiniGrid-Dynamic-Obstacles-6x6-v0     MiniGrid-Dynamic-Obstacles-8x8-v0     MiniGrid-Dynamic-Obstacles-Random-5x5-v0\n",
      "MiniGrid-Dynamic-Obstacles-Random-6x6-v0 MiniGrid-Empty-16x16-v0               MiniGrid-Empty-5x5-v0\n",
      "MiniGrid-Empty-6x6-v0                 MiniGrid-Empty-8x8-v0                 MiniGrid-Empty-Random-5x5-v0\n",
      "MiniGrid-Empty-Random-6x6-v0          MiniGrid-Fetch-5x5-N2-v0              MiniGrid-Fetch-6x6-N2-v0\n",
      "MiniGrid-Fetch-8x8-N3-v0              MiniGrid-FourRooms-v0                 MiniGrid-GoToDoor-5x5-v0\n",
      "MiniGrid-GoToDoor-6x6-v0              MiniGrid-GoToDoor-8x8-v0              MiniGrid-GoToObject-6x6-N2-v0\n",
      "MiniGrid-GoToObject-8x8-N2-v0         MiniGrid-KeyCorridorS3R1-v0           MiniGrid-KeyCorridorS3R2-v0\n",
      "MiniGrid-KeyCorridorS3R3-v0           MiniGrid-KeyCorridorS4R3-v0           MiniGrid-KeyCorridorS5R3-v0\n",
      "MiniGrid-KeyCorridorS6R3-v0           MiniGrid-LavaCrossingS11N5-v0         MiniGrid-LavaCrossingS9N1-v0\n",
      "MiniGrid-LavaCrossingS9N2-v0          MiniGrid-LavaCrossingS9N3-v0          MiniGrid-LavaGapS5-v0\n",
      "MiniGrid-LavaGapS6-v0                 MiniGrid-LavaGapS7-v0                 MiniGrid-LockedRoom-v0\n",
      "MiniGrid-MemoryS11-v0                 MiniGrid-MemoryS13-v0                 MiniGrid-MemoryS13Random-v0\n",
      "MiniGrid-MemoryS17Random-v0           MiniGrid-MemoryS7-v0                  MiniGrid-MemoryS9-v0\n",
      "MiniGrid-MultiRoom-N2-S4-v0           MiniGrid-MultiRoom-N4-S5-v0           MiniGrid-MultiRoom-N6-v0\n",
      "MiniGrid-ObstructedMaze-1Dl-v0        MiniGrid-ObstructedMaze-1Dlh-v0       MiniGrid-ObstructedMaze-1Dlhb-v0\n",
      "MiniGrid-ObstructedMaze-1Q-v0         MiniGrid-ObstructedMaze-2Dl-v0        MiniGrid-ObstructedMaze-2Dlh-v0\n",
      "MiniGrid-ObstructedMaze-2Dlhb-v0      MiniGrid-ObstructedMaze-2Q-v0         MiniGrid-ObstructedMaze-Full-v0\n",
      "MiniGrid-Playground-v0                MiniGrid-PutNear-6x6-N2-v0            MiniGrid-PutNear-8x8-N3-v0\n",
      "MiniGrid-RedBlueDoors-6x6-v0          MiniGrid-RedBlueDoors-8x8-v0          MiniGrid-SimpleCrossingS11N5-v0\n",
      "MiniGrid-SimpleCrossingS9N1-v0        MiniGrid-SimpleCrossingS9N2-v0        MiniGrid-SimpleCrossingS9N3-v0\n",
      "MiniGrid-Unlock-v0                    MiniGrid-UnlockPickup-v0\n",
      "===== obstructedmaze_v1 =====\n",
      "MiniGrid-ObstructedMaze-1Q-v1         MiniGrid-ObstructedMaze-2Dlhb-v1      MiniGrid-ObstructedMaze-2Q-v1\n",
      "MiniGrid-ObstructedMaze-Full-v1\n",
      "===== babyai =====\n",
      "BabyAI-ActionObjDoor-v0               BabyAI-BlockedUnlockPickup-v0         BabyAI-BossLevel-v0\n",
      "BabyAI-BossLevelNoUnlock-v0           BabyAI-FindObjS5-v0                   BabyAI-FindObjS6-v0\n",
      "BabyAI-FindObjS7-v0                   BabyAI-GoTo-v0                        BabyAI-GoToDoor-v0\n",
      "BabyAI-GoToImpUnlock-v0               BabyAI-GoToLocal-v0                   BabyAI-GoToLocalS5N2-v0\n",
      "BabyAI-GoToLocalS6N2-v0               BabyAI-GoToLocalS6N3-v0               BabyAI-GoToLocalS6N4-v0\n",
      "BabyAI-GoToLocalS7N4-v0               BabyAI-GoToLocalS7N5-v0               BabyAI-GoToLocalS8N2-v0\n",
      "BabyAI-GoToLocalS8N3-v0               BabyAI-GoToLocalS8N4-v0               BabyAI-GoToLocalS8N5-v0\n",
      "BabyAI-GoToLocalS8N6-v0               BabyAI-GoToLocalS8N7-v0               BabyAI-GoToObj-v0\n",
      "BabyAI-GoToObjDoor-v0                 BabyAI-GoToObjMaze-v0                 BabyAI-GoToObjMazeOpen-v0\n",
      "BabyAI-GoToObjMazeS4-v0               BabyAI-GoToObjMazeS4R2-v0             BabyAI-GoToObjMazeS5-v0\n",
      "BabyAI-GoToObjMazeS6-v0               BabyAI-GoToObjMazeS7-v0               BabyAI-GoToObjS4-v0\n",
      "BabyAI-GoToObjS6-v0                   BabyAI-GoToOpen-v0                    BabyAI-GoToRedBall-v0\n",
      "BabyAI-GoToRedBallGrey-v0             BabyAI-GoToRedBallNoDists-v0          BabyAI-GoToRedBlueBall-v0\n",
      "BabyAI-GoToSeq-v0                     BabyAI-GoToSeqS5R2-v0                 BabyAI-KeyCorridor-v0\n",
      "BabyAI-KeyCorridorS3R1-v0             BabyAI-KeyCorridorS3R2-v0             BabyAI-KeyCorridorS3R3-v0\n",
      "BabyAI-KeyCorridorS4R3-v0             BabyAI-KeyCorridorS5R3-v0             BabyAI-KeyCorridorS6R3-v0\n",
      "BabyAI-KeyInBox-v0                    BabyAI-MiniBossLevel-v0               BabyAI-MoveTwoAcrossS5N2-v0\n",
      "BabyAI-MoveTwoAcrossS8N9-v0           BabyAI-OneRoomS12-v0                  BabyAI-OneRoomS16-v0\n",
      "BabyAI-OneRoomS20-v0                  BabyAI-OneRoomS8-v0                   BabyAI-Open-v0\n",
      "BabyAI-OpenDoor-v0                    BabyAI-OpenDoorColor-v0               BabyAI-OpenDoorDebug-v0\n",
      "BabyAI-OpenDoorLoc-v0                 BabyAI-OpenDoorsOrderN2-v0            BabyAI-OpenDoorsOrderN2Debug-v0\n",
      "BabyAI-OpenDoorsOrderN4-v0            BabyAI-OpenDoorsOrderN4Debug-v0       BabyAI-OpenRedBlueDoors-v0\n",
      "BabyAI-OpenRedBlueDoorsDebug-v0       BabyAI-OpenRedDoor-v0                 BabyAI-OpenTwoDoors-v0\n",
      "BabyAI-Pickup-v0                      BabyAI-PickupAbove-v0                 BabyAI-PickupDist-v0\n",
      "BabyAI-PickupDistDebug-v0             BabyAI-PickupLoc-v0                   BabyAI-PutNextLocal-v0\n",
      "BabyAI-PutNextLocalS5N3-v0            BabyAI-PutNextLocalS6N4-v0            BabyAI-PutNextS4N1-v0\n",
      "BabyAI-PutNextS5N1-v0                 BabyAI-PutNextS5N2-v0                 BabyAI-PutNextS5N2Carrying-v0\n",
      "BabyAI-PutNextS6N3-v0                 BabyAI-PutNextS6N3Carrying-v0         BabyAI-PutNextS7N4-v0\n",
      "BabyAI-PutNextS7N4Carrying-v0         BabyAI-Synth-v0                       BabyAI-SynthLoc-v0\n",
      "BabyAI-SynthS5R2-v0                   BabyAI-SynthSeq-v0                    BabyAI-UnblockPickup-v0\n",
      "BabyAI-Unlock-v0                      BabyAI-UnlockLocal-v0                 BabyAI-UnlockLocalDist-v0\n",
      "BabyAI-UnlockPickup-v0                BabyAI-UnlockPickupDist-v0            BabyAI-UnlockToUnlock-v0\n"
     ]
    }
   ],
   "source": [
    "gymnasium.pprint_registry()"
   ]
  },
  {
   "cell_type": "code",
   "execution_count": 4,
   "id": "4be544f8-5feb-43a9-9194-ebe763e0f139",
   "metadata": {},
   "outputs": [
    {
     "ename": "NameNotFound",
     "evalue": "Environment `Ventilation` doesn't exist.",
     "output_type": "error",
     "traceback": [
      "\u001b[0;31m---------------------------------------------------------------------------\u001b[0m",
      "\u001b[0;31mNameNotFound\u001b[0m                              Traceback (most recent call last)",
      "Cell \u001b[0;32mIn[4], line 1\u001b[0m\n\u001b[0;32m----> 1\u001b[0m env \u001b[38;5;241m=\u001b[39m \u001b[43mgymnasium\u001b[49m\u001b[38;5;241;43m.\u001b[39;49m\u001b[43mmake\u001b[49m\u001b[43m(\u001b[49m\u001b[38;5;124;43m\"\u001b[39;49m\u001b[38;5;124;43mVentilation-v0\u001b[39;49m\u001b[38;5;124;43m\"\u001b[39;49m\u001b[43m,\u001b[49m\u001b[43m \u001b[49m\u001b[43mrender_mode\u001b[49m\u001b[38;5;241;43m=\u001b[39;49m\u001b[38;5;124;43m\"\u001b[39;49m\u001b[38;5;124;43mhuman\u001b[39;49m\u001b[38;5;124;43m\"\u001b[39;49m\u001b[43m)\u001b[49m\n",
      "File \u001b[0;32m~/.cache/pypoetry/virtualenvs/plantroom-rl-N8b5SEPs-py3.11/lib/python3.11/site-packages/gymnasium/envs/registration.py:741\u001b[0m, in \u001b[0;36mmake\u001b[0;34m(id, max_episode_steps, autoreset, apply_api_compatibility, disable_env_checker, **kwargs)\u001b[0m\n\u001b[1;32m    738\u001b[0m     \u001b[38;5;28;01massert\u001b[39;00m \u001b[38;5;28misinstance\u001b[39m(\u001b[38;5;28mid\u001b[39m, \u001b[38;5;28mstr\u001b[39m)\n\u001b[1;32m    740\u001b[0m     \u001b[38;5;66;03m# The environment name can include an unloaded module in \"module:env_name\" style\u001b[39;00m\n\u001b[0;32m--> 741\u001b[0m     env_spec \u001b[38;5;241m=\u001b[39m \u001b[43m_find_spec\u001b[49m\u001b[43m(\u001b[49m\u001b[38;5;28;43mid\u001b[39;49m\u001b[43m)\u001b[49m\n\u001b[1;32m    743\u001b[0m \u001b[38;5;28;01massert\u001b[39;00m \u001b[38;5;28misinstance\u001b[39m(env_spec, EnvSpec)\n\u001b[1;32m    745\u001b[0m \u001b[38;5;66;03m# Update the env spec kwargs with the `make` kwargs\u001b[39;00m\n",
      "File \u001b[0;32m~/.cache/pypoetry/virtualenvs/plantroom-rl-N8b5SEPs-py3.11/lib/python3.11/site-packages/gymnasium/envs/registration.py:527\u001b[0m, in \u001b[0;36m_find_spec\u001b[0;34m(env_id)\u001b[0m\n\u001b[1;32m    521\u001b[0m     logger\u001b[38;5;241m.\u001b[39mwarn(\n\u001b[1;32m    522\u001b[0m         \u001b[38;5;124mf\u001b[39m\u001b[38;5;124m\"\u001b[39m\u001b[38;5;124mUsing the latest versioned environment `\u001b[39m\u001b[38;5;132;01m{\u001b[39;00mnew_env_id\u001b[38;5;132;01m}\u001b[39;00m\u001b[38;5;124m` \u001b[39m\u001b[38;5;124m\"\u001b[39m\n\u001b[1;32m    523\u001b[0m         \u001b[38;5;124mf\u001b[39m\u001b[38;5;124m\"\u001b[39m\u001b[38;5;124minstead of the unversioned environment `\u001b[39m\u001b[38;5;132;01m{\u001b[39;00menv_name\u001b[38;5;132;01m}\u001b[39;00m\u001b[38;5;124m`.\u001b[39m\u001b[38;5;124m\"\u001b[39m\n\u001b[1;32m    524\u001b[0m     )\n\u001b[1;32m    526\u001b[0m \u001b[38;5;28;01mif\u001b[39;00m env_spec \u001b[38;5;129;01mis\u001b[39;00m \u001b[38;5;28;01mNone\u001b[39;00m:\n\u001b[0;32m--> 527\u001b[0m     \u001b[43m_check_version_exists\u001b[49m\u001b[43m(\u001b[49m\u001b[43mns\u001b[49m\u001b[43m,\u001b[49m\u001b[43m \u001b[49m\u001b[43mname\u001b[49m\u001b[43m,\u001b[49m\u001b[43m \u001b[49m\u001b[43mversion\u001b[49m\u001b[43m)\u001b[49m\n\u001b[1;32m    528\u001b[0m     \u001b[38;5;28;01mraise\u001b[39;00m error\u001b[38;5;241m.\u001b[39mError(\n\u001b[1;32m    529\u001b[0m         \u001b[38;5;124mf\u001b[39m\u001b[38;5;124m\"\u001b[39m\u001b[38;5;124mNo registered env with id: \u001b[39m\u001b[38;5;132;01m{\u001b[39;00menv_name\u001b[38;5;132;01m}\u001b[39;00m\u001b[38;5;124m. Did you register it, or import the package that registers it? Use `gymnasium.pprint_registry()` to see all of the registered environments.\u001b[39m\u001b[38;5;124m\"\u001b[39m\n\u001b[1;32m    530\u001b[0m     )\n\u001b[1;32m    532\u001b[0m \u001b[38;5;28;01mreturn\u001b[39;00m env_spec\n",
      "File \u001b[0;32m~/.cache/pypoetry/virtualenvs/plantroom-rl-N8b5SEPs-py3.11/lib/python3.11/site-packages/gymnasium/envs/registration.py:393\u001b[0m, in \u001b[0;36m_check_version_exists\u001b[0;34m(ns, name, version)\u001b[0m\n\u001b[1;32m    390\u001b[0m \u001b[38;5;28;01mif\u001b[39;00m get_env_id(ns, name, version) \u001b[38;5;129;01min\u001b[39;00m registry:\n\u001b[1;32m    391\u001b[0m     \u001b[38;5;28;01mreturn\u001b[39;00m\n\u001b[0;32m--> 393\u001b[0m \u001b[43m_check_name_exists\u001b[49m\u001b[43m(\u001b[49m\u001b[43mns\u001b[49m\u001b[43m,\u001b[49m\u001b[43m \u001b[49m\u001b[43mname\u001b[49m\u001b[43m)\u001b[49m\n\u001b[1;32m    394\u001b[0m \u001b[38;5;28;01mif\u001b[39;00m version \u001b[38;5;129;01mis\u001b[39;00m \u001b[38;5;28;01mNone\u001b[39;00m:\n\u001b[1;32m    395\u001b[0m     \u001b[38;5;28;01mreturn\u001b[39;00m\n",
      "File \u001b[0;32m~/.cache/pypoetry/virtualenvs/plantroom-rl-N8b5SEPs-py3.11/lib/python3.11/site-packages/gymnasium/envs/registration.py:370\u001b[0m, in \u001b[0;36m_check_name_exists\u001b[0;34m(ns, name)\u001b[0m\n\u001b[1;32m    367\u001b[0m namespace_msg \u001b[38;5;241m=\u001b[39m \u001b[38;5;124mf\u001b[39m\u001b[38;5;124m\"\u001b[39m\u001b[38;5;124m in namespace \u001b[39m\u001b[38;5;132;01m{\u001b[39;00mns\u001b[38;5;132;01m}\u001b[39;00m\u001b[38;5;124m\"\u001b[39m \u001b[38;5;28;01mif\u001b[39;00m ns \u001b[38;5;28;01melse\u001b[39;00m \u001b[38;5;124m\"\u001b[39m\u001b[38;5;124m\"\u001b[39m\n\u001b[1;32m    368\u001b[0m suggestion_msg \u001b[38;5;241m=\u001b[39m \u001b[38;5;124mf\u001b[39m\u001b[38;5;124m\"\u001b[39m\u001b[38;5;124m Did you mean: `\u001b[39m\u001b[38;5;132;01m{\u001b[39;00msuggestion[\u001b[38;5;241m0\u001b[39m]\u001b[38;5;132;01m}\u001b[39;00m\u001b[38;5;124m`?\u001b[39m\u001b[38;5;124m\"\u001b[39m \u001b[38;5;28;01mif\u001b[39;00m suggestion \u001b[38;5;28;01melse\u001b[39;00m \u001b[38;5;124m\"\u001b[39m\u001b[38;5;124m\"\u001b[39m\n\u001b[0;32m--> 370\u001b[0m \u001b[38;5;28;01mraise\u001b[39;00m error\u001b[38;5;241m.\u001b[39mNameNotFound(\n\u001b[1;32m    371\u001b[0m     \u001b[38;5;124mf\u001b[39m\u001b[38;5;124m\"\u001b[39m\u001b[38;5;124mEnvironment `\u001b[39m\u001b[38;5;132;01m{\u001b[39;00mname\u001b[38;5;132;01m}\u001b[39;00m\u001b[38;5;124m` doesn\u001b[39m\u001b[38;5;124m'\u001b[39m\u001b[38;5;124mt exist\u001b[39m\u001b[38;5;132;01m{\u001b[39;00mnamespace_msg\u001b[38;5;132;01m}\u001b[39;00m\u001b[38;5;124m.\u001b[39m\u001b[38;5;132;01m{\u001b[39;00msuggestion_msg\u001b[38;5;132;01m}\u001b[39;00m\u001b[38;5;124m\"\u001b[39m\n\u001b[1;32m    372\u001b[0m )\n",
      "\u001b[0;31mNameNotFound\u001b[0m: Environment `Ventilation` doesn't exist."
     ]
    }
   ],
   "source": [
    "env = gymnasium.make(\"Ventilation-v0\", render_mode=\"human\")"
   ]
  },
  {
   "cell_type": "code",
   "execution_count": 7,
   "id": "8031b945-3244-45d4-9c7a-119910f071a2",
   "metadata": {},
   "outputs": [
    {
     "name": "stdout",
     "output_type": "stream",
     "text": [
      "pygame 2.5.1 (SDL 2.28.2, Python 3.11.0)\n",
      "Hello from the pygame community. https://www.pygame.org/contribute.html\n"
     ]
    },
    {
     "ename": "ImportError",
     "evalue": "cannot import name 'LavaCrossingS11N5Env' from 'minigrid.envs' (/home/than/.cache/pypoetry/virtualenvs/plantroom-rl-N8b5SEPs-py3.11/lib/python3.11/site-packages/minigrid/envs/__init__.py)",
     "output_type": "error",
     "traceback": [
      "\u001b[0;31m---------------------------------------------------------------------------\u001b[0m",
      "\u001b[0;31mImportError\u001b[0m                               Traceback (most recent call last)",
      "Cell \u001b[0;32mIn[7], line 1\u001b[0m\n\u001b[0;32m----> 1\u001b[0m \u001b[38;5;28;01mfrom\u001b[39;00m \u001b[38;5;21;01mminigrid\u001b[39;00m\u001b[38;5;21;01m.\u001b[39;00m\u001b[38;5;21;01menvs\u001b[39;00m \u001b[38;5;28;01mimport\u001b[39;00m LavaCrossingS11N5Env\n",
      "\u001b[0;31mImportError\u001b[0m: cannot import name 'LavaCrossingS11N5Env' from 'minigrid.envs' (/home/than/.cache/pypoetry/virtualenvs/plantroom-rl-N8b5SEPs-py3.11/lib/python3.11/site-packages/minigrid/envs/__init__.py)"
     ]
    }
   ],
   "source": [
    "from minigrid.envs import LavaCrossingS11N5Env"
   ]
  },
  {
   "cell_type": "code",
   "execution_count": 9,
   "id": "c567a6be-3c6b-4d9f-bcf0-4c6caa03d143",
   "metadata": {},
   "outputs": [
    {
     "ename": "ImportError",
     "evalue": "cannot import name 'LavaCrossingS11N5Env' from 'minigrid.envs.crossing' (/home/than/.cache/pypoetry/virtualenvs/plantroom-rl-N8b5SEPs-py3.11/lib/python3.11/site-packages/minigrid/envs/crossing.py)",
     "output_type": "error",
     "traceback": [
      "\u001b[0;31m---------------------------------------------------------------------------\u001b[0m",
      "\u001b[0;31mImportError\u001b[0m                               Traceback (most recent call last)",
      "Cell \u001b[0;32mIn[9], line 1\u001b[0m\n\u001b[0;32m----> 1\u001b[0m \u001b[38;5;28;01mfrom\u001b[39;00m \u001b[38;5;21;01mminigrid\u001b[39;00m\u001b[38;5;21;01m.\u001b[39;00m\u001b[38;5;21;01menvs\u001b[39;00m\u001b[38;5;21;01m.\u001b[39;00m\u001b[38;5;21;01mcrossing\u001b[39;00m \u001b[38;5;28;01mimport\u001b[39;00m CrossingEnv, LavaCrossingS11N5Env\n",
      "\u001b[0;31mImportError\u001b[0m: cannot import name 'LavaCrossingS11N5Env' from 'minigrid.envs.crossing' (/home/than/.cache/pypoetry/virtualenvs/plantroom-rl-N8b5SEPs-py3.11/lib/python3.11/site-packages/minigrid/envs/crossing.py)"
     ]
    }
   ],
   "source": [
    "from minigrid.envs.crossing import CrossingEnv, LavaCrossingS11N5Env"
   ]
  },
  {
   "cell_type": "code",
   "execution_count": 5,
   "id": "ebbcf417-0cc9-4cb3-ac67-3ca6935db07c",
   "metadata": {},
   "outputs": [
    {
     "ename": "NameError",
     "evalue": "name 'LavaCrossingS11N5Env' is not defined",
     "output_type": "error",
     "traceback": [
      "\u001b[0;31m---------------------------------------------------------------------------\u001b[0m",
      "\u001b[0;31mNameError\u001b[0m                                 Traceback (most recent call last)",
      "Cell \u001b[0;32mIn[5], line 1\u001b[0m\n\u001b[0;32m----> 1\u001b[0m \u001b[38;5;28;01mclass\u001b[39;00m \u001b[38;5;21;01mSeeThroughWallsS11N5Env\u001b[39;00m(\u001b[43mLavaCrossingS11N5Env\u001b[49m):\n\u001b[1;32m      2\u001b[0m     \u001b[38;5;28;01mdef\u001b[39;00m \u001b[38;5;21m__init__\u001b[39m(\u001b[38;5;28mself\u001b[39m):\n\u001b[1;32m      3\u001b[0m         \u001b[38;5;28msuper\u001b[39m()\u001b[38;5;241m.\u001b[39m\u001b[38;5;21m__init__\u001b[39m()\n",
      "\u001b[0;31mNameError\u001b[0m: name 'LavaCrossingS11N5Env' is not defined"
     ]
    }
   ],
   "source": [
    "class SeeThroughWallsS11N5Env(LavaCrossingS11N5Env):\n",
    "    def __init__(self):\n",
    "        super().__init__()\n",
    "        self.see_through_walls=True\n"
   ]
  },
  {
   "cell_type": "code",
   "execution_count": 13,
   "id": "9393a4de-2e7f-4ce6-b9ea-b4d37dfce044",
   "metadata": {},
   "outputs": [
    {
     "data": {
      "text/plain": [
       "<function gymnasium.core.Env.render(self) -> 'RenderFrame | list[RenderFrame] | None'>"
      ]
     },
     "execution_count": 13,
     "metadata": {},
     "output_type": "execute_result"
    }
   ],
   "source": [
    "gymnasium.Env.render"
   ]
  },
  {
   "cell_type": "code",
   "execution_count": null,
   "id": "aff2a700-c8d3-4ab1-b9d1-ce9b4781dfb2",
   "metadata": {},
   "outputs": [],
   "source": [
    "observation, info = env.reset(seed=42)\n",
    "for _ in range(1000):\n",
    "   action = env.action_space.sample()  # this is where you would insert your policy\n",
    "   observation, reward, terminated, truncated, info = env.step(action)\n",
    "\n",
    "   if terminated or truncated:\n",
    "      observation, info = env.reset()\n",
    "env.close()"
   ]
  },
  {
   "cell_type": "code",
   "execution_count": 10,
   "id": "8c7908d5-fd14-4cf9-9c16-69be83be8bfb",
   "metadata": {},
   "outputs": [
    {
     "ename": "ImportError",
     "evalue": "attempted relative import with no known parent package",
     "output_type": "error",
     "traceback": [
      "\u001b[0;31m---------------------------------------------------------------------------\u001b[0m",
      "\u001b[0;31mImportError\u001b[0m                               Traceback (most recent call last)",
      "Cell \u001b[0;32mIn[10], line 1\u001b[0m\n\u001b[0;32m----> 1\u001b[0m \u001b[38;5;28;01mfrom\u001b[39;00m \u001b[38;5;21;01m.\u001b[39;00m\u001b[38;5;21;01m.\u001b[39;00m\u001b[38;5;21;01mventilation\u001b[39;00m \u001b[38;5;28;01mimport\u001b[39;00m PipesEnv\n\u001b[1;32m      2\u001b[0m env \u001b[38;5;241m=\u001b[39m PipesEnv(render_mode\u001b[38;5;241m=\u001b[39m\u001b[38;5;124m\"\u001b[39m\u001b[38;5;124mhuman\u001b[39m\u001b[38;5;124m\"\u001b[39m)\n",
      "\u001b[0;31mImportError\u001b[0m: attempted relative import with no known parent package"
     ]
    }
   ],
   "source": []
  },
  {
   "cell_type": "code",
   "execution_count": null,
   "id": "d5289bba-74cf-4529-96b8-16297a969cc6",
   "metadata": {},
   "outputs": [],
   "source": []
  }
 ],
 "metadata": {
  "kernelspec": {
   "display_name": "Python 3 (ipykernel)",
   "language": "python",
   "name": "python3"
  },
  "language_info": {
   "codemirror_mode": {
    "name": "ipython",
    "version": 3
   },
   "file_extension": ".py",
   "mimetype": "text/x-python",
   "name": "python",
   "nbconvert_exporter": "python",
   "pygments_lexer": "ipython3",
   "version": "3.11.0"
  }
 },
 "nbformat": 4,
 "nbformat_minor": 5
}
